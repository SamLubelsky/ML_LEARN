{
 "cells": [
  {
   "cell_type": "code",
   "execution_count": 531,
   "id": "32e3b068",
   "metadata": {},
   "outputs": [],
   "source": [
    "import sys\n",
    "assert sys.version_info >= (3, 5)\n",
    "\n",
    "# Scikit-Learn ≥0.20 is required\n",
    "import sklearn\n",
    "assert sklearn.__version__ >= \"0.20\"\n",
    "\n",
    "# Common imports\n",
    "import numpy as np\n",
    "import os\n",
    "\n",
    "# to make this notebook's output stable across runs\n",
    "np.random.seed(42)\n",
    "\n",
    "# To plot pretty figures\n",
    "%matplotlib inline\n",
    "import matplotlib as mpl\n",
    "import matplotlib.pyplot as plt\n",
    "mpl.rc('axes', labelsize=14)\n",
    "mpl.rc('xtick', labelsize=12)\n",
    "mpl.rc('ytick', labelsize=12)"
   ]
  },
  {
   "cell_type": "code",
   "execution_count": 532,
   "id": "99bbe00f",
   "metadata": {},
   "outputs": [
    {
     "data": {
      "text/plain": [
       "['data',\n",
       " 'target',\n",
       " 'frame',\n",
       " 'target_names',\n",
       " 'DESCR',\n",
       " 'feature_names',\n",
       " 'filename',\n",
       " 'data_module']"
      ]
     },
     "execution_count": 532,
     "metadata": {},
     "output_type": "execute_result"
    }
   ],
   "source": [
    "from sklearn import datasets\n",
    "iris = datasets.load_iris()\n",
    "list(iris.keys())"
   ]
  },
  {
   "cell_type": "code",
   "execution_count": 533,
   "id": "f033e10e",
   "metadata": {},
   "outputs": [
    {
     "name": "stdout",
     "output_type": "stream",
     "text": [
      ".. _iris_dataset:\n",
      "\n",
      "Iris plants dataset\n",
      "--------------------\n",
      "\n",
      "**Data Set Characteristics:**\n",
      "\n",
      "    :Number of Instances: 150 (50 in each of three classes)\n",
      "    :Number of Attributes: 4 numeric, predictive attributes and the class\n",
      "    :Attribute Information:\n",
      "        - sepal length in cm\n",
      "        - sepal width in cm\n",
      "        - petal length in cm\n",
      "        - petal width in cm\n",
      "        - class:\n",
      "                - Iris-Setosa\n",
      "                - Iris-Versicolour\n",
      "                - Iris-Virginica\n",
      "                \n",
      "    :Summary Statistics:\n",
      "\n",
      "    ============== ==== ==== ======= ===== ====================\n",
      "                    Min  Max   Mean    SD   Class Correlation\n",
      "    ============== ==== ==== ======= ===== ====================\n",
      "    sepal length:   4.3  7.9   5.84   0.83    0.7826\n",
      "    sepal width:    2.0  4.4   3.05   0.43   -0.4194\n",
      "    petal length:   1.0  6.9   3.76   1.76    0.9490  (high!)\n",
      "    petal width:    0.1  2.5   1.20   0.76    0.9565  (high!)\n",
      "    ============== ==== ==== ======= ===== ====================\n",
      "\n",
      "    :Missing Attribute Values: None\n",
      "    :Class Distribution: 33.3% for each of 3 classes.\n",
      "    :Creator: R.A. Fisher\n",
      "    :Donor: Michael Marshall (MARSHALL%PLU@io.arc.nasa.gov)\n",
      "    :Date: July, 1988\n",
      "\n",
      "The famous Iris database, first used by Sir R.A. Fisher. The dataset is taken\n",
      "from Fisher's paper. Note that it's the same as in R, but not as in the UCI\n",
      "Machine Learning Repository, which has two wrong data points.\n",
      "\n",
      "This is perhaps the best known database to be found in the\n",
      "pattern recognition literature.  Fisher's paper is a classic in the field and\n",
      "is referenced frequently to this day.  (See Duda & Hart, for example.)  The\n",
      "data set contains 3 classes of 50 instances each, where each class refers to a\n",
      "type of iris plant.  One class is linearly separable from the other 2; the\n",
      "latter are NOT linearly separable from each other.\n",
      "\n",
      ".. topic:: References\n",
      "\n",
      "   - Fisher, R.A. \"The use of multiple measurements in taxonomic problems\"\n",
      "     Annual Eugenics, 7, Part II, 179-188 (1936); also in \"Contributions to\n",
      "     Mathematical Statistics\" (John Wiley, NY, 1950).\n",
      "   - Duda, R.O., & Hart, P.E. (1973) Pattern Classification and Scene Analysis.\n",
      "     (Q327.D83) John Wiley & Sons.  ISBN 0-471-22361-1.  See page 218.\n",
      "   - Dasarathy, B.V. (1980) \"Nosing Around the Neighborhood: A New System\n",
      "     Structure and Classification Rule for Recognition in Partially Exposed\n",
      "     Environments\".  IEEE Transactions on Pattern Analysis and Machine\n",
      "     Intelligence, Vol. PAMI-2, No. 1, 67-71.\n",
      "   - Gates, G.W. (1972) \"The Reduced Nearest Neighbor Rule\".  IEEE Transactions\n",
      "     on Information Theory, May 1972, 431-433.\n",
      "   - See also: 1988 MLC Proceedings, 54-64.  Cheeseman et al\"s AUTOCLASS II\n",
      "     conceptual clustering system finds 3 classes in the data.\n",
      "   - Many, many more ...\n"
     ]
    }
   ],
   "source": [
    "print(iris.DESCR)"
   ]
  },
  {
   "cell_type": "code",
   "execution_count": 534,
   "id": "6fae2719",
   "metadata": {},
   "outputs": [],
   "source": [
    "X = iris[\"data\"][:,2:]\n",
    "y = iris[\"target\"]\n",
    "X = np.c_[np.ones([len(X), 1]), X]"
   ]
  },
  {
   "cell_type": "code",
   "execution_count": 535,
   "id": "1f14e1c9",
   "metadata": {},
   "outputs": [
    {
     "data": {
      "text/plain": [
       "array(['setosa', 'versicolor', 'virginica'], dtype='<U10')"
      ]
     },
     "execution_count": 535,
     "metadata": {},
     "output_type": "execute_result"
    }
   ],
   "source": [
    "classes = iris[\"target_names\"]\n",
    "classes"
   ]
  },
  {
   "cell_type": "code",
   "execution_count": 536,
   "id": "a652f254",
   "metadata": {},
   "outputs": [],
   "source": [
    "lr = 0.1\n",
    "m = len(X)\n",
    "param_matrix = np.random.randn(3,3)"
   ]
  },
  {
   "cell_type": "code",
   "execution_count": 537,
   "id": "2b7e362f",
   "metadata": {},
   "outputs": [],
   "source": [
    "from math import exp\n",
    "def softmax(scores, cl):\n",
    "    #print(scores)\n",
    "    final_scores = np.zeros(3, dtype = np.float64)\n",
    "    exp_sum = 0 \n",
    "    exp_func = np.vectorize(exp)\n",
    "    final_scores = exp_func(scores)\n",
    "    exp_sum = sum(final_scores)\n",
    "    final_scores = final_scores / exp_sum\n",
    "    return final_scores[cl]\n",
    "def softmax1(scores):\n",
    "    #print(scores)\n",
    "    final_scores = np.zeros(3, dtype = np.float64)\n",
    "    exp_sum = 0 \n",
    "    exp_func = np.vectorize(exp)\n",
    "    final_scores = exp_func(scores)\n",
    "    exp_sum = sum(final_scores)\n",
    "    final_scores = final_scores / exp_sum\n",
    "    return final_scores"
   ]
  },
  {
   "cell_type": "code",
   "execution_count": 538,
   "id": "330a6556",
   "metadata": {},
   "outputs": [
    {
     "data": {
      "text/plain": [
       "array([2.45182703e-04, 2.68875482e-01, 7.30879336e-01])"
      ]
     },
     "execution_count": 538,
     "metadata": {},
     "output_type": "execute_result"
    }
   ],
   "source": [
    "softmax1(np.asarray([-3, 4, 5])) #softmax works"
   ]
  },
  {
   "cell_type": "code",
   "execution_count": 539,
   "id": "460ed235",
   "metadata": {},
   "outputs": [
    {
     "data": {
      "text/plain": [
       "array([[1, 0, 0],\n",
       "       [1, 0, 0],\n",
       "       [1, 0, 0],\n",
       "       [1, 0, 0],\n",
       "       [1, 0, 0],\n",
       "       [1, 0, 0],\n",
       "       [1, 0, 0],\n",
       "       [1, 0, 0],\n",
       "       [1, 0, 0],\n",
       "       [1, 0, 0],\n",
       "       [1, 0, 0],\n",
       "       [1, 0, 0],\n",
       "       [1, 0, 0],\n",
       "       [1, 0, 0],\n",
       "       [1, 0, 0],\n",
       "       [1, 0, 0],\n",
       "       [1, 0, 0],\n",
       "       [1, 0, 0],\n",
       "       [1, 0, 0],\n",
       "       [1, 0, 0],\n",
       "       [1, 0, 0],\n",
       "       [1, 0, 0],\n",
       "       [1, 0, 0],\n",
       "       [1, 0, 0],\n",
       "       [1, 0, 0],\n",
       "       [1, 0, 0],\n",
       "       [1, 0, 0],\n",
       "       [1, 0, 0],\n",
       "       [1, 0, 0],\n",
       "       [1, 0, 0],\n",
       "       [1, 0, 0],\n",
       "       [1, 0, 0],\n",
       "       [1, 0, 0],\n",
       "       [1, 0, 0],\n",
       "       [1, 0, 0],\n",
       "       [1, 0, 0],\n",
       "       [1, 0, 0],\n",
       "       [1, 0, 0],\n",
       "       [1, 0, 0],\n",
       "       [1, 0, 0],\n",
       "       [1, 0, 0],\n",
       "       [1, 0, 0],\n",
       "       [1, 0, 0],\n",
       "       [1, 0, 0],\n",
       "       [1, 0, 0],\n",
       "       [1, 0, 0],\n",
       "       [1, 0, 0],\n",
       "       [1, 0, 0],\n",
       "       [1, 0, 0],\n",
       "       [1, 0, 0],\n",
       "       [0, 1, 0],\n",
       "       [0, 1, 0],\n",
       "       [0, 1, 0],\n",
       "       [0, 1, 0],\n",
       "       [0, 1, 0],\n",
       "       [0, 1, 0],\n",
       "       [0, 1, 0],\n",
       "       [0, 1, 0],\n",
       "       [0, 1, 0],\n",
       "       [0, 1, 0],\n",
       "       [0, 1, 0],\n",
       "       [0, 1, 0],\n",
       "       [0, 1, 0],\n",
       "       [0, 1, 0],\n",
       "       [0, 1, 0],\n",
       "       [0, 1, 0],\n",
       "       [0, 1, 0],\n",
       "       [0, 1, 0],\n",
       "       [0, 1, 0],\n",
       "       [0, 1, 0],\n",
       "       [0, 1, 0],\n",
       "       [0, 1, 0],\n",
       "       [0, 1, 0],\n",
       "       [0, 1, 0],\n",
       "       [0, 1, 0],\n",
       "       [0, 1, 0],\n",
       "       [0, 1, 0],\n",
       "       [0, 1, 0],\n",
       "       [0, 1, 0],\n",
       "       [0, 1, 0],\n",
       "       [0, 1, 0],\n",
       "       [0, 1, 0],\n",
       "       [0, 1, 0],\n",
       "       [0, 1, 0],\n",
       "       [0, 1, 0],\n",
       "       [0, 1, 0],\n",
       "       [0, 1, 0],\n",
       "       [0, 1, 0],\n",
       "       [0, 1, 0],\n",
       "       [0, 1, 0],\n",
       "       [0, 1, 0],\n",
       "       [0, 1, 0],\n",
       "       [0, 1, 0],\n",
       "       [0, 1, 0],\n",
       "       [0, 1, 0],\n",
       "       [0, 1, 0],\n",
       "       [0, 1, 0],\n",
       "       [0, 1, 0],\n",
       "       [0, 1, 0],\n",
       "       [0, 1, 0],\n",
       "       [0, 0, 1],\n",
       "       [0, 0, 1],\n",
       "       [0, 0, 1],\n",
       "       [0, 0, 1],\n",
       "       [0, 0, 1],\n",
       "       [0, 0, 1],\n",
       "       [0, 0, 1],\n",
       "       [0, 0, 1],\n",
       "       [0, 0, 1],\n",
       "       [0, 0, 1],\n",
       "       [0, 0, 1],\n",
       "       [0, 0, 1],\n",
       "       [0, 0, 1],\n",
       "       [0, 0, 1],\n",
       "       [0, 0, 1],\n",
       "       [0, 0, 1],\n",
       "       [0, 0, 1],\n",
       "       [0, 0, 1],\n",
       "       [0, 0, 1],\n",
       "       [0, 0, 1],\n",
       "       [0, 0, 1],\n",
       "       [0, 0, 1],\n",
       "       [0, 0, 1],\n",
       "       [0, 0, 1],\n",
       "       [0, 0, 1],\n",
       "       [0, 0, 1],\n",
       "       [0, 0, 1],\n",
       "       [0, 0, 1],\n",
       "       [0, 0, 1],\n",
       "       [0, 0, 1],\n",
       "       [0, 0, 1],\n",
       "       [0, 0, 1],\n",
       "       [0, 0, 1],\n",
       "       [0, 0, 1],\n",
       "       [0, 0, 1],\n",
       "       [0, 0, 1],\n",
       "       [0, 0, 1],\n",
       "       [0, 0, 1],\n",
       "       [0, 0, 1],\n",
       "       [0, 0, 1],\n",
       "       [0, 0, 1],\n",
       "       [0, 0, 1],\n",
       "       [0, 0, 1],\n",
       "       [0, 0, 1],\n",
       "       [0, 0, 1],\n",
       "       [0, 0, 1],\n",
       "       [0, 0, 1],\n",
       "       [0, 0, 1],\n",
       "       [0, 0, 1],\n",
       "       [0, 0, 1]])"
      ]
     },
     "execution_count": 539,
     "metadata": {},
     "output_type": "execute_result"
    }
   ],
   "source": [
    "y_prepared = np.zeros(len(y))\n",
    "y_prepared = [(y == 0), (y == 1), (y == 2)]\n",
    "y_prepared = np.array(list(zip(y_prepared[0], y_prepared[1], y_prepared[2])))\n",
    "y_prepared = y_prepared.astype(int)\n",
    "y_prepared "
   ]
  },
  {
   "cell_type": "code",
   "execution_count": 540,
   "id": "8faa2202",
   "metadata": {},
   "outputs": [],
   "source": [
    "def predict(p_matrix, x):\n",
    "    scores = np.zeros(len(classes))\n",
    "    for class_num in range(len(classes)):\n",
    "        theta = p_matrix[class_num]\n",
    "        score = sum(theta * x) + theta[0]\n",
    "        scores[class_num] = score\n",
    "    return scores\n",
    "    \n",
    "    \n",
    "    "
   ]
  },
  {
   "cell_type": "code",
   "execution_count": 541,
   "id": "03c43a27",
   "metadata": {},
   "outputs": [],
   "source": [
    "import math\n",
    "def cross_entropy(p_matrix, X):\n",
    "    cost_sum = 0\n",
    "    for i in range(m):\n",
    "        for k in range(len(classes)):\n",
    "            expected = y_prepared[i]\n",
    "            x = X[i]\n",
    "            probability = predict(p_matrix, x, k)\n",
    "            pred = expected[k] * softmax(predictions , k)\n",
    "            cost_sum += math.log(pred)\n",
    "    return cost_sum * (-1 / m)"
   ]
  },
  {
   "cell_type": "code",
   "execution_count": 542,
   "id": "1e558862",
   "metadata": {},
   "outputs": [],
   "source": [
    "def cross_entropy_gradient(p_matrix, k):\n",
    "    grad_sum = np.zeros(3)\n",
    "    for i in range(m):\n",
    "        x = X[i]\n",
    "        predictions = predict(p_matrix, x)\n",
    "        #print(predictions)\n",
    "        expected = y_prepared[i]\n",
    "        p = softmax(predictions, k)\n",
    "        y = expected[k]\n",
    "        grad_sum += (p - y) * x\n",
    "    return grad_sum * (1 / m)\n",
    "    "
   ]
  },
  {
   "cell_type": "code",
   "execution_count": 543,
   "id": "4834287c",
   "metadata": {},
   "outputs": [],
   "source": [
    "def softmax2(logits):\n",
    "    exps = np.exp(logits)\n",
    "    exp_sums = np.sum(exps, axis=1, keepdims=True)\n",
    "    return exps / exp_sums"
   ]
  },
  {
   "cell_type": "code",
   "execution_count": 544,
   "id": "e869303a",
   "metadata": {},
   "outputs": [],
   "source": [
    "def cross_gradient_new(p_matrix):\n",
    "    logits = X.dot(p_matrix)\n",
    "    y_proba = softmax2(logits)\n",
    "    error = y_proba - y_prepared\n",
    "    gradients = (1 / m) * X.T.dot(error)\n",
    "    return gradients\n",
    "    "
   ]
  },
  {
   "cell_type": "code",
   "execution_count": 545,
   "id": "437f3039",
   "metadata": {},
   "outputs": [],
   "source": [
    "def train(X, p_matrix):\n",
    "    for k in range(len(classes)):\n",
    "        grad = cross_entropy_gradient(p_matrix, k)\n",
    "        #print(grad)\n",
    "        theta = p_matrix[k]\n",
    "        theta -= (lr * grad)\n",
    "        p_matrix[k] = theta\n"
   ]
  },
  {
   "cell_type": "code",
   "execution_count": 546,
   "id": "11bd41a0",
   "metadata": {},
   "outputs": [],
   "source": [
    "def train_new(X, p_matrix):\n",
    "    gradients = cross_gradient_new(p_matrix)\n",
    "    p_matrix -= (lr) * gradients"
   ]
  },
  {
   "cell_type": "code",
   "execution_count": 547,
   "id": "d0bb52e9",
   "metadata": {},
   "outputs": [
    {
     "data": {
      "text/plain": [
       "array([[ 0.49671415, -0.1382643 ,  0.64768854],\n",
       "       [ 1.52302986, -0.23415337, -0.23413696],\n",
       "       [ 1.57921282,  0.76743473, -0.46947439]])"
      ]
     },
     "execution_count": 547,
     "metadata": {},
     "output_type": "execute_result"
    }
   ],
   "source": [
    "param_matrix"
   ]
  },
  {
   "cell_type": "code",
   "execution_count": 548,
   "id": "f4a8109c",
   "metadata": {},
   "outputs": [
    {
     "data": {
      "text/plain": [
       "0.3333333333333333"
      ]
     },
     "execution_count": 548,
     "metadata": {},
     "output_type": "execute_result"
    }
   ],
   "source": [
    "test(param_matrix)"
   ]
  },
  {
   "cell_type": "code",
   "execution_count": 552,
   "id": "bfdae0e5",
   "metadata": {},
   "outputs": [
    {
     "data": {
      "text/plain": [
       "array([[ 6.2280141 , -2.13363766, -2.28858921],\n",
       "       [ 1.98905277,  0.91077146, -1.43381821],\n",
       "       [-4.55007535,  1.8524178 ,  3.73779699]])"
      ]
     },
     "execution_count": 552,
     "metadata": {},
     "output_type": "execute_result"
    }
   ],
   "source": [
    "n_iterations = 3000\n",
    "for _ in range(n_iterations):\n",
    "    train(X, param_matrix)\n",
    "    #train_new(X, param_matrix)\n",
    "param_matrix"
   ]
  },
  {
   "cell_type": "code",
   "execution_count": 550,
   "id": "b9738ce9",
   "metadata": {},
   "outputs": [],
   "source": [
    "def test(X, p_matrix):\n",
    "    correct_results = 0\n",
    "    for i in range(len(X)):\n",
    "        x = X[i]\n",
    "        expected = y[i]\n",
    "        pred = predict(p_matrix, x)\n",
    "        res = softmax1(pred)\n",
    "        guess = np.argmax(res)\n",
    "        if(guess == expected):\n",
    "            correct_results += 1\n",
    "    return correct_results / len(X)"
   ]
  },
  {
   "cell_type": "code",
   "execution_count": 553,
   "id": "8f605ae8",
   "metadata": {},
   "outputs": [
    {
     "data": {
      "text/plain": [
       "0.96"
      ]
     },
     "execution_count": 553,
     "metadata": {},
     "output_type": "execute_result"
    }
   ],
   "source": [
    "test(param_matrix)"
   ]
  },
  {
   "cell_type": "code",
   "execution_count": null,
   "id": "8ef23667",
   "metadata": {},
   "outputs": [],
   "source": []
  }
 ],
 "metadata": {
  "kernelspec": {
   "display_name": "Python 3 (ipykernel)",
   "language": "python",
   "name": "python3"
  },
  "language_info": {
   "codemirror_mode": {
    "name": "ipython",
    "version": 3
   },
   "file_extension": ".py",
   "mimetype": "text/x-python",
   "name": "python",
   "nbconvert_exporter": "python",
   "pygments_lexer": "ipython3",
   "version": "3.8.10"
  }
 },
 "nbformat": 4,
 "nbformat_minor": 5
}
